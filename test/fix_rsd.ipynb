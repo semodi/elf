{
 "cells": [
  {
   "cell_type": "code",
   "execution_count": 1,
   "metadata": {},
   "outputs": [
    {
     "name": "stdout",
     "output_type": "stream",
     "text": [
      "Populating the interactive namespace from numpy and matplotlib\n"
     ]
    }
   ],
   "source": [
    "import elf \n",
    "import siesta_utils.grid as siesta \n",
    "from siesta_utils.conversions import AtoBohr\n",
    "from ase.io import read, write\n",
    "import numpy as np \n",
    "# import xcml\n",
    "import pickle\n",
    "import re\n",
    "from ase import Atoms\n",
    "from elf import ElF\n",
    "%pylab inline"
   ]
  },
  {
   "cell_type": "code",
   "execution_count": 2,
   "metadata": {},
   "outputs": [],
   "source": [
    "import os"
   ]
  },
  {
   "cell_type": "code",
   "execution_count": 3,
   "metadata": {},
   "outputs": [],
   "source": [
    "def water_local(coords):\n",
    "    \n",
    "    axis1 = coords[1] - coords[0]\n",
    "    axis2 = coords[2] - coords[0]\n",
    "    axis3 = np.cross(axis1, axis2)\n",
    "    axis1 /= np.linalg.norm(axis1)\n",
    "    axis2 /= np.linalg.norm(axis2)\n",
    "    axis3 /= np.linalg.norm(axis3)\n",
    "    return elf.geom.get_euler_angles(np.array([axis1, axis2, axis3]))"
   ]
  },
  {
   "cell_type": "code",
   "execution_count": 4,
   "metadata": {},
   "outputs": [
    {
     "name": "stderr",
     "output_type": "stream",
     "text": [
      "/home/sebastian/Documents/Physics/Code/ElF/elf/real_space/rs_elf.py:52: RuntimeWarning: invalid value encountered in true_divide\n",
      "  Theta = np.arccos(Z/R, where = (R != 0))\n"
     ]
    }
   ],
   "source": [
    "basis = {'r_o_o': 1.0,'r_i_o': 0.05, 'r_i_h': 0.0, 'r_o_h' : 1.5,\n",
    "                      'n_rad_o' : 2,'n_rad_h' : 1, 'n_l_o' : 3,\n",
    "                      'n_l_h' : 2, 'gamma_o': 0, 'gamma_h': 0}\n",
    "\n",
    "basepath = './outputs/monomers_rotated_origin/node_'\n",
    "paths = [basepath + '{}/RHO/0'.format(p) for p in range(4)]\n",
    "\n",
    "atoms = []\n",
    "coords = []\n",
    "elfs = []\n",
    "angles = []\n",
    "for p in paths:\n",
    "    atoms.append(elf.siesta.get_atoms(p + '.out'))\n",
    "    coords.append(atoms[-1].get_positions())\n",
    "    elfs.append(elf.real_space.get_elfs(atoms[-1], elf.siesta.get_density(p + '.RHOXC'), basis))\n",
    "    \n",
    "\n",
    "# elf.geom.get_euler_angles(coords[0])"
   ]
  },
  {
   "cell_type": "code",
   "execution_count": 5,
   "metadata": {},
   "outputs": [
    {
     "name": "stdout",
     "output_type": "stream",
     "text": [
      "[[ 0.      0.      0.    ]\n",
      " [ 0.9339 -0.2328  0.    ]\n",
      " [-0.      0.9625  0.    ]]\n",
      "[[ 0.      0.      0.    ]\n",
      " [ 0.9339 -0.2328 -0.    ]\n",
      " [-0.      0.9625 -0.    ]]\n",
      "[[ 0.      0.      0.    ]\n",
      " [ 0.9339 -0.2328  0.    ]\n",
      " [-0.      0.9625 -0.    ]]\n",
      "[[ 0.      0.      0.    ]\n",
      " [ 0.9339 -0.2328 -0.    ]\n",
      " [-0.      0.9625  0.    ]]\n"
     ]
    }
   ],
   "source": [
    "for c in coords:\n",
    "    a = water_local(c)\n",
    "    print(elf.geom.rotate_vector(c, np.array(a), True).round(4))"
   ]
  },
  {
   "cell_type": "code",
   "execution_count": 6,
   "metadata": {},
   "outputs": [],
   "source": [
    "elf_aligned = []\n",
    "elf_aligned_vector = []\n",
    "elf_orig = []\n",
    "for e,c in zip(elfs,coords):\n",
    "    a = np.array(elf.geom.get_nncs_angles(0, c,None))\n",
    "    elf_orig.append(elf.geom.make_real_old(e[0].value)[1:4])\n",
    "    elf_aligned.append(elf.geom.make_real_old(elf.geom.rotate_tensor(e[0].value, a, True)).round(2))\n",
    "    \n",
    "    elf_aligned_vector.append(elf.geom.rotate_vector(elf.geom.make_real_old(e[0].value)[1:4].reshape(1,-1),\n",
    "                                                     a, True).round(2))"
   ]
  },
  {
   "cell_type": "code",
   "execution_count": 7,
   "metadata": {},
   "outputs": [
    {
     "data": {
      "text/plain": [
       "[array([[ 0.        ,  0.        ,  0.        ],\n",
       "        [-0.75846035, -0.59257417,  0.        ],\n",
       "        [ 0.75846035, -0.59257417,  0.        ]]),\n",
       " array([[ 0.        ,  0.        ,  0.        ],\n",
       "        [-0.10379396,  0.29521583, -0.91020914],\n",
       "        [-0.49046808, -0.82746993,  0.03377615]]),\n",
       " array([[ 0.        ,  0.        ,  0.        ],\n",
       "        [ 0.70421738,  0.58888498,  0.28930711],\n",
       "        [-0.5251954 ,  0.54126221, -0.59800607]]),\n",
       " array([[ 0.        ,  0.        ,  0.        ],\n",
       "        [ 0.83185374,  0.48410638, -0.00816232],\n",
       "        [-0.14922257, -0.22212701, -0.92455312]])]"
      ]
     },
     "execution_count": 7,
     "metadata": {},
     "output_type": "execute_result"
    }
   ],
   "source": [
    "coords"
   ]
  },
  {
   "cell_type": "code",
   "execution_count": 8,
   "metadata": {},
   "outputs": [
    {
     "data": {
      "text/plain": [
       "[array([227.14,   9.28,  11.87,  -0.  ,   0.49,  -1.95,  -0.  ,  -0.  ,\n",
       "         -4.38, 106.86,  -6.42,  -8.21,   0.  ,  -0.95,   3.8 ,   0.  ,\n",
       "         -0.  ,   9.84]),\n",
       " array([ 2.2714e+02,  9.2800e+00,  1.1870e+01,  0.0000e+00,  4.9000e-01,\n",
       "        -1.9500e+00,  0.0000e+00,  0.0000e+00, -4.3800e+00,  1.0686e+02,\n",
       "        -6.4200e+00, -8.2100e+00,  0.0000e+00, -9.5000e-01,  3.8100e+00,\n",
       "         1.0000e-02,  0.0000e+00,  9.8500e+00]),\n",
       " array([227.14,   9.28,  11.87,  -0.  ,   0.49,  -1.95,  -0.  ,   0.  ,\n",
       "         -4.38, 106.86,  -6.42,  -8.21,   0.  ,  -0.95,   3.81,  -0.  ,\n",
       "          0.  ,   9.86]),\n",
       " array([ 2.2714e+02,  9.2800e+00,  1.1870e+01, -0.0000e+00,  4.9000e-01,\n",
       "        -1.9500e+00, -0.0000e+00,  0.0000e+00, -4.3800e+00,  1.0686e+02,\n",
       "        -6.4200e+00, -8.2100e+00, -0.0000e+00, -9.5000e-01,  3.8100e+00,\n",
       "        -1.0000e-02,  0.0000e+00,  9.8500e+00])]"
      ]
     },
     "execution_count": 8,
     "metadata": {},
     "output_type": "execute_result"
    }
   ],
   "source": [
    "elf_aligned"
   ]
  },
  {
   "cell_type": "code",
   "execution_count": 9,
   "metadata": {},
   "outputs": [
    {
     "data": {
      "text/plain": [
       "[array([[ 9.28, 11.87, -0.  ]]),\n",
       " array([[ 9.28, 11.87,  0.  ]]),\n",
       " array([[ 9.28, 11.87, -0.  ]]),\n",
       " array([[ 9.28, 11.87, -0.  ]])]"
      ]
     },
     "execution_count": 9,
     "metadata": {},
     "output_type": "execute_result"
    }
   ],
   "source": [
    "elf_aligned_vector"
   ]
  },
  {
   "cell_type": "code",
   "execution_count": 10,
   "metadata": {},
   "outputs": [
    {
     "data": {
      "image/png": "[encoded data removed]",
      "text/plain": [
       "<Figure size 432x288 with 1 Axes>"
      ]
     },
     "metadata": {},
     "output_type": "display_data"
    }
   ],
   "source": [
    "plot(np.array(elf_aligned).T);"
   ]
  },
  {
   "cell_type": "code",
   "execution_count": 11,
   "metadata": {},
   "outputs": [
    {
     "name": "stdout",
     "output_type": "stream",
     "text": [
      "15.066584285319006\n",
      "0, Using coordinates for alignment\n",
      "[[ 0.     0.     0.   ]\n",
      " [ 0.593  0.758  0.   ]\n",
      " [ 0.593 -0.758  0.   ]]\n",
      "15.06708693786372\n",
      "0, Using coordinates for alignment\n",
      "[[ 0.     0.     0.   ]\n",
      " [ 0.593 -0.758  0.   ]\n",
      " [ 0.593  0.758 -0.   ]]\n",
      "15.066456821130696\n",
      "0, Using coordinates for alignment\n",
      "[[ 0.     0.     0.   ]\n",
      " [ 0.593  0.758  0.   ]\n",
      " [ 0.593 -0.758 -0.   ]]\n",
      "15.067602119010314\n",
      "0, Using coordinates for alignment\n",
      "[[ 0.     0.     0.   ]\n",
      " [ 0.593  0.758  0.   ]\n",
      " [ 0.593 -0.758 -0.   ]]\n"
     ]
    }
   ],
   "source": [
    "for e, c in zip(elfs, coords):\n",
    "    a = elf.geom.get_elfcs_angles(0, c, e[0].value)\n",
    "    print(elf.geom.rotate_vector(c,np.array(a), True).round(3))"
   ]
  },
  {
   "cell_type": "code",
   "execution_count": 12,
   "metadata": {},
   "outputs": [
    {
     "name": "stdout",
     "output_type": "stream",
     "text": [
      "15.066584285319006\n",
      "0, Using coordinates for alignment\n",
      "15.06708693786372\n",
      "0, Using coordinates for alignment\n",
      "15.066456821130696\n",
      "0, Using coordinates for alignment\n",
      "15.067602119010314\n",
      "0, Using coordinates for alignment\n"
     ]
    }
   ],
   "source": [
    "elf_aligned = []\n",
    "elf_aligned_vector = []\n",
    "elf_orig = []\n",
    "for e,c in zip(elfs,coords):\n",
    "    a = np.array(elf.geom.get_elfcs_angles(0,c,e[0].value))\n",
    "    elf_orig.append(elf.geom.make_real_old(e[0].value)[1:4])\n",
    "    elf_aligned.append(elf.geom.make_real_old(elf.geom.rotate_tensor(e[0].value, a, True)).round(2))"
   ]
  },
  {
   "cell_type": "code",
   "execution_count": 13,
   "metadata": {},
   "outputs": [
    {
     "data": {
      "text/plain": [
       "[<matplotlib.lines.Line2D at 0x7fd7a2f5e518>,\n",
       " <matplotlib.lines.Line2D at 0x7fd7a2f5e358>,\n",
       " <matplotlib.lines.Line2D at 0x7fd7a2f5e0f0>,\n",
       " <matplotlib.lines.Line2D at 0x7fd7b004df60>]"
      ]
     },
     "execution_count": 13,
     "metadata": {},
     "output_type": "execute_result"
    },
    {
     "data": {
      "image/png": "[encoded data removed]",
      "text/plain": [
       "<Figure size 432x288 with 1 Axes>"
      ]
     },
     "metadata": {},
     "output_type": "display_data"
    }
   ],
   "source": [
    "plot(np.array(elf_aligned).T)"
   ]
  },
  {
   "cell_type": "code",
   "execution_count": 14,
   "metadata": {},
   "outputs": [],
   "source": [
    "def water_local(coords):\n",
    "    \n",
    "    axis1 = coords[1] - coords[0]\n",
    "    axis2 = coords[2] - coords[0]\n",
    "    axis3 = np.cross(axis1, axis2)\n",
    "    axis1 /= np.linalg.norm(axis1)\n",
    "    axis2 /= np.linalg.norm(axis2)\n",
    "    axis3 /= np.linalg.norm(axis3)\n",
    "    return elf.geom.get_euler_angles(np.array([axis1, axis2, axis3]))"
   ]
  },
  {
   "cell_type": "code",
   "execution_count": 15,
   "metadata": {},
   "outputs": [
    {
     "name": "stdout",
     "output_type": "stream",
     "text": [
      "15.066584285319006\n",
      "15.067086910789929\n",
      "15.066456820764756\n",
      "15.067602108522644\n"
     ]
    }
   ],
   "source": [
    "for e, c in zip(elf_orig,coords):\n",
    "    ax = c[1]+c[2]\n",
    "    ax = ax/np.linalg.norm(ax)\n",
    "#     print(ax)\n",
    "#     print(e)\n",
    "    print(ax.dot(e))"
   ]
  },
  {
   "cell_type": "code",
   "execution_count": 16,
   "metadata": {},
   "outputs": [],
   "source": [
    "descr_old = np.genfromtxt('./outputs/monomers_rotated_origin/processed/descriptors_coeff.dat', delimiter = ',')"
   ]
  },
  {
   "cell_type": "code",
   "execution_count": 17,
   "metadata": {},
   "outputs": [
    {
     "data": {
      "text/plain": [
       "0.0"
      ]
     },
     "execution_count": 17,
     "metadata": {},
     "output_type": "execute_result"
    }
   ],
   "source": [
    "np.arctan2(0,1)"
   ]
  },
  {
   "cell_type": "code",
   "execution_count": null,
   "metadata": {},
   "outputs": [],
   "source": []
  }
 ],
 "metadata": {
  "kernelspec": {
   "display_name": "Python 3",
   "language": "python",
   "name": "python3"
  },
  "language_info": {
   "codemirror_mode": {
    "name": "ipython",
    "version": 3
   },
   "file_extension": ".py",
   "mimetype": "text/x-python",
   "name": "python",
   "nbconvert_exporter": "python",
   "pygments_lexer": "ipython3",
   "version": "3.6.5"
  }
 },
 "nbformat": 4,
 "nbformat_minor": 2
}
