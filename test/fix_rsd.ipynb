{
 "cells": [
  {
   "cell_type": "code",
   "execution_count": 1,
   "metadata": {},
   "outputs": [
    {
     "name": "stdout",
     "output_type": "stream",
     "text": [
      "Populating the interactive namespace from numpy and matplotlib\n"
     ]
    }
   ],
   "source": [
    "import elf \n",
    "import siesta_utils.grid as siesta \n",
    "from siesta_utils.conversions import AtoBohr\n",
    "from ase.io import read, write\n",
    "import numpy as np \n",
    "# import xcml\n",
    "import pickle\n",
    "import re\n",
    "from ase import Atoms\n",
    "from elf import ElF\n",
    "%pylab inline"
   ]
  },
  {
   "cell_type": "code",
   "execution_count": 2,
   "metadata": {},
   "outputs": [],
   "source": [
    "import os"
   ]
  },
  {
   "cell_type": "code",
   "execution_count": 3,
   "metadata": {},
   "outputs": [],
   "source": [
    "basis = {'r_o_o': 1.0,'r_i_o': 0.05, 'r_i_h': 0.0, 'r_o_h' : 1.5,\n",
    "                      'n_rad_o' : 2,'n_rad_h' : 2, 'n_l_o' : 3,\n",
    "                      'n_l_h' : 2, 'gamma_o': 0, 'gamma_h': 0}"
   ]
  },
  {
   "cell_type": "code",
   "execution_count": 4,
   "metadata": {},
   "outputs": [
    {
     "name": "stderr",
     "output_type": "stream",
     "text": [
      "/home/sebastian/miniconda3/lib/python3.6/site-packages/ipyparallel/client/client.py:459: RuntimeWarning: \n",
      "            Controller appears to be listening on localhost, but not on this machine.\n",
      "            If this is true, you should specify Client(...,sshserver='you@sebastian-XPS-13-9360')\n",
      "            or instruct your controller to listen on an external IP.\n",
      "  RuntimeWarning)\n"
     ]
    },
    {
     "name": "stdout",
     "output_type": "stream",
     "text": [
      "Clients operating : 4\n"
     ]
    },
    {
     "data": {
      "text/plain": [
       "[[<elf.elf.ElF at 0x7f8cb6097588>,\n",
       "  <elf.elf.ElF at 0x7f8cb6097860>,\n",
       "  <elf.elf.ElF at 0x7f8cb60979b0>,\n",
       "  <elf.elf.ElF at 0x7f8cb60979e8>,\n",
       "  <elf.elf.ElF at 0x7f8cb6097a20>,\n",
       "  <elf.elf.ElF at 0x7f8cb6097a58>],\n",
       " [<elf.elf.ElF at 0x7f8cb60975c0>,\n",
       "  <elf.elf.ElF at 0x7f8cb6097fd0>,\n",
       "  <elf.elf.ElF at 0x7f8cb609f160>,\n",
       "  <elf.elf.ElF at 0x7f8cb609f198>,\n",
       "  <elf.elf.ElF at 0x7f8cb609f1d0>,\n",
       "  <elf.elf.ElF at 0x7f8cb609f208>],\n",
       " [<elf.elf.ElF at 0x7f8cb6097400>,\n",
       "  <elf.elf.ElF at 0x7f8cb6097c18>,\n",
       "  <elf.elf.ElF at 0x7f8cb6097d68>,\n",
       "  <elf.elf.ElF at 0x7f8cb6097da0>,\n",
       "  <elf.elf.ElF at 0x7f8cb6097dd8>,\n",
       "  <elf.elf.ElF at 0x7f8cb6097e10>]]"
      ]
     },
     "execution_count": 4,
     "metadata": {},
     "output_type": "execute_result"
    }
   ],
   "source": [
    "elf.utils.preprocess_all('outputs', basis, method='elf', view = elf.utils.get_view('default'))"
   ]
  },
  {
   "cell_type": "code",
   "execution_count": 5,
   "metadata": {},
   "outputs": [],
   "source": [
    "elfs = elf.utils.hdf5_to_elfs('outputs_processed.hdf5','OH')"
   ]
  },
  {
   "cell_type": "code",
   "execution_count": 6,
   "metadata": {},
   "outputs": [
    {
     "data": {
      "text/plain": [
       "{}"
      ]
     },
     "execution_count": 6,
     "metadata": {},
     "output_type": "execute_result"
    }
   ],
   "source": [
    "elfs[0][0].basis"
   ]
  },
  {
   "cell_type": "code",
   "execution_count": 7,
   "metadata": {},
   "outputs": [
    {
     "data": {
      "image/png": "[encoded data removed]",
      "text/plain": [
       "<Figure size 432x288 with 1 Axes>"
      ]
     },
     "metadata": {},
     "output_type": "display_data"
    }
   ],
   "source": [
    "for sys in elfs:\n",
    "    for e in sys:\n",
    "        plot(e.value)"
   ]
  },
  {
   "cell_type": "code",
   "execution_count": null,
   "metadata": {},
   "outputs": [],
   "source": []
  }
 ],
 "metadata": {
  "kernelspec": {
   "display_name": "Python 3",
   "language": "python",
   "name": "python3"
  },
  "language_info": {
   "codemirror_mode": {
    "name": "ipython",
    "version": 3
   },
   "file_extension": ".py",
   "mimetype": "text/x-python",
   "name": "python",
   "nbconvert_exporter": "python",
   "pygments_lexer": "ipython3",
   "version": "3.6.5"
  }
 },
 "nbformat": 4,
 "nbformat_minor": 2
}
