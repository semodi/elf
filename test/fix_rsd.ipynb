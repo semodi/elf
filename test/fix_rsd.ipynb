{
 "cells": [
  {
   "cell_type": "code",
   "execution_count": 1,
   "metadata": {},
   "outputs": [
    {
     "name": "stdout",
     "output_type": "stream",
     "text": [
      "Populating the interactive namespace from numpy and matplotlib\n"
     ]
    }
   ],
   "source": [
    "import elf \n",
    "import siesta_utils.grid as siesta \n",
    "from siesta_utils.conversions import AtoBohr\n",
    "from ase.io import read, write\n",
    "import numpy as np \n",
    "# import xcml\n",
    "import pickle\n",
    "import re\n",
    "from ase import Atoms\n",
    "from elf import ElF\n",
    "%pylab inline"
   ]
  },
  {
   "cell_type": "code",
   "execution_count": 2,
   "metadata": {},
   "outputs": [],
   "source": [
    "import os"
   ]
  },
  {
   "cell_type": "code",
   "execution_count": 3,
   "metadata": {},
   "outputs": [],
   "source": [
    "def water_local(coords):\n",
    "    \n",
    "    axis1 = coords[1] - coords[0]\n",
    "    axis2 = coords[2] - coords[0]\n",
    "    axis3 = np.cross(axis1, axis2)\n",
    "    axis1 /= np.linalg.norm(axis1)\n",
    "    axis2 /= np.linalg.norm(axis2)\n",
    "    axis3 /= np.linalg.norm(axis3)\n",
    "    return elf.geom.get_euler_angles(np.array([axis1, axis2, axis3]))"
   ]
  },
  {
   "cell_type": "code",
   "execution_count": 4,
   "metadata": {},
   "outputs": [
    {
     "name": "stderr",
     "output_type": "stream",
     "text": [
      "/home/sebastian/Documents/Physics/Code/ElF/elf/real_space/rs_elf.py:52: RuntimeWarning: invalid value encountered in true_divide\n",
      "  Theta = np.arccos(Z/R, where = (R != 0))\n"
     ]
    }
   ],
   "source": [
    "basis = {'r_o_o': 1.0,'r_i_o': 0.05, 'r_i_h': 0.0, 'r_o_h' : 1.5,\n",
    "                      'n_rad_o' : 2,'n_rad_h' : 2, 'n_l_o' : 3,\n",
    "                      'n_l_h' : 2, 'gamma_o': 0, 'gamma_h': 0}\n",
    "\n",
    "basepath = './outputs/monomers_rotated_origin/node_'\n",
    "paths = [basepath + '{}/RHO/0'.format(p) for p in range(3)]\n",
    "\n",
    "atoms = []\n",
    "coords = []\n",
    "elfs = []\n",
    "for p in paths:\n",
    "    atoms.append(elf.siesta.get_atoms(p + '.out'))\n",
    "    coords.append(atoms[-1].get_positions())\n",
    "    elfs.append(elf.real_space.get_elfs(atoms[-1], elf.siesta.get_density(p + '.RHOXC'), basis))\n",
    "    \n",
    "\n",
    "# elf.geom.get_euler_angles(coords[0])"
   ]
  },
  {
   "cell_type": "code",
   "execution_count": 5,
   "metadata": {},
   "outputs": [],
   "source": [
    "angles = np.genfromtxt(basepath + '0/../../monomers_rotated_origin.angles', delimiter =',')"
   ]
  },
  {
   "cell_type": "code",
   "execution_count": 6,
   "metadata": {},
   "outputs": [
    {
     "name": "stdout",
     "output_type": "stream",
     "text": [
      "[227.13558475  -7.55474976  -6.76645363 -11.14193983   2.17766749\n",
      "  -3.0663369    0.54598286  -2.56721606   1.47963433 106.86358621\n",
      "   5.22543379   4.68018883   7.70660456  -4.73346008   6.90957527\n",
      "  -1.54101263   5.29570507  -3.40581608]\n",
      "[227.13638418  -7.5542249   -6.76699663 -11.14264563   2.17798547\n",
      "  -3.06585672   0.5460235   -2.56661706   1.48037588 106.86299178\n",
      "   5.2261462    4.68043838   7.70758792  -4.73294991   6.92453674\n",
      "  -1.5448883    5.30648213  -3.40657208]\n",
      "[227.13558475   2.27587524  14.36736424  -3.9244361   -0.67456127\n",
      "  -1.04755648   4.32972796  -1.20913368  -1.20901409 106.86358621\n",
      "  -1.57416668  -9.93755094   2.71443551   1.05703387   2.42358026\n",
      "  -9.42074377   2.87455472   2.8569442 ]\n",
      "[227.13625899   2.27577613  14.36723678  -3.92447084  -0.67417574\n",
      "  -1.04739187   4.32907633  -1.20931215  -1.20945241 106.86325473\n",
      "  -1.57427385  -9.93807189   2.71482954   1.05583727   2.4290058\n",
      "  -9.44041671   2.88099848   2.85737515]\n"
     ]
    }
   ],
   "source": [
    "for e, c, a in zip(elfs[1:], coords[1:], angles[1:]):\n",
    "#     print(elf.geom.rotate_vector(c, a, True))\n",
    "    rotated = elf.geom.rotate_tensor(elfs[0][0].value, -a, False)\n",
    "    original = e[0].value\n",
    "    print(elf.geom.make_real_old(rotated))\n",
    "    print(elf.geom.make_real_old(original))\n",
    "#     for key in rotated:\n",
    "#         print('{} : {}'.format(rotated[key].round(4), original[key].round(4)))"
   ]
  },
  {
   "cell_type": "code",
   "execution_count": 7,
   "metadata": {},
   "outputs": [
    {
     "name": "stdout",
     "output_type": "stream",
     "text": [
      "[[ -7.55474976  -6.76645363 -11.14193983]]\n",
      "[ -7.5542249   -6.76699663 -11.14264563]\n",
      "[[ 2.27587524 14.36736424 -3.9244361 ]]\n",
      "[ 2.27577613 14.36723678 -3.92447084]\n"
     ]
    }
   ],
   "source": [
    "p0 = elf.geom.make_real_old(elfs[0][0].value)[1:4]\n",
    "for e, c, a in zip(elfs[1:], coords[1:], angles[1:]):\n",
    "\n",
    "    rotated = elf.geom.rotate_vector(np.array([p0]), a, False)\n",
    "    original = elf.geom.make_real_old(e[0].value)[1:4]\n",
    "    print(rotated)\n",
    "    print(original)\n",
    "#     for key in rotated:\n",
    "#         print('{} : {}'.format(rotated[key].round(4), original[key].round(4)))"
   ]
  },
  {
   "cell_type": "code",
   "execution_count": 8,
   "metadata": {},
   "outputs": [
    {
     "name": "stdout",
     "output_type": "stream",
     "text": [
      "[[ 0.          0.          0.        ]\n",
      " [-0.10379396  0.29521583 -0.91020914]\n",
      " [-0.49046808 -0.82746993  0.03377615]]\n",
      "[[ 0.          0.          0.        ]\n",
      " [-0.10379396  0.29521583 -0.91020914]\n",
      " [-0.49046808 -0.82746993  0.03377615]]\n",
      "[[ 0.          0.          0.        ]\n",
      " [ 0.70421738  0.58888498  0.28930711]\n",
      " [-0.5251954   0.54126221 -0.59800607]]\n",
      "[[ 0.          0.          0.        ]\n",
      " [ 0.70421738  0.58888498  0.28930711]\n",
      " [-0.5251954   0.54126221 -0.59800607]]\n"
     ]
    }
   ],
   "source": [
    "p0 = elf.geom.make_real_old(elfs[0][0].value)[1:4]\n",
    "for e, c, a in zip(elfs[1:], coords[1:], angles[1:]):\n",
    "\n",
    "    coords_rot = elf.geom.rotate_vector(coords[0], a, False)\n",
    "\n",
    "    print(coords_rot)\n",
    "    print(c-c[0])"
   ]
  },
  {
   "cell_type": "code",
   "execution_count": 31,
   "metadata": {},
   "outputs": [
    {
     "name": "stdout",
     "output_type": "stream",
     "text": [
      "['/home/sebastian/Documents/Physics/Code/ElF/test/./outputs/monomers_rotated_origin/node_0/RHO/0', '/home/sebastian/Documents/Physics/Code/ElF/test/./outputs/monomers_rotated_origin/node_1/RHO/0', '/home/sebastian/Documents/Physics/Code/ElF/test/./outputs/monomers_rotated_origin/node_2/RHO/0', '/home/sebastian/Documents/Physics/Code/ElF/test/./outputs/monomers_rotated_origin/node_3/RHO/0', '/home/sebastian/Documents/Physics/Code/ElF/test/./outputs/monomers_rotated_origin/node_4/RHO/0', '/home/sebastian/Documents/Physics/Code/ElF/test/./outputs/monomers_rotated_origin/node_5/RHO/0', '/home/sebastian/Documents/Physics/Code/ElF/test/./outputs/monomers_rotated_origin/node_6/RHO/0', '/home/sebastian/Documents/Physics/Code/ElF/test/./outputs/monomers_rotated_origin/node_7/RHO/0', '/home/sebastian/Documents/Physics/Code/ElF/test/./outputs/monomers_rotated_origin/node_8/RHO/0', '/home/sebastian/Documents/Physics/Code/ElF/test/./outputs/monomers_rotated_origin/node_9/RHO/0']\n",
      "10 systems found. Processing ...\n"
     ]
    },
    {
     "name": "stderr",
     "output_type": "stream",
     "text": [
      "/home/sebastian/Documents/Physics/Code/ElF/elf/real_space/rs_elf.py:52: RuntimeWarning: invalid value encountered in true_divide\n",
      "  Theta = np.arccos(Z/R, where = (R != 0))\n"
     ]
    }
   ],
   "source": [
    "elfs_all = elf.utils.preprocess_all('./outputs/monomers_rotated_origin',basis, method='nn')"
   ]
  },
  {
   "cell_type": "code",
   "execution_count": 32,
   "metadata": {},
   "outputs": [],
   "source": [
    "elf.utils.elfs_to_hdf5(elfs_all, 'elfs_all.hdf5')"
   ]
  },
  {
   "cell_type": "code",
   "execution_count": 33,
   "metadata": {},
   "outputs": [
    {
     "name": "stdout",
     "output_type": "stream",
     "text": [
      "{'r_o_o': 1.0, 'r_i_o': 0.05, 'n_rad_o': 2, 'n_l_o': 3, 'gamma_o': 0, 'r_i_h': 0.0, 'r_o_h': 1.5, 'n_rad_h': 2, 'n_l_h': 2, 'gamma_h': 0}\n"
     ]
    }
   ],
   "source": [
    "elfs_all = elf.utils.hdf5_to_elfs('elfs_all.hdf5','o')\n",
    "\n",
    "\n",
    "\n",
    "angles = np.concatenate(np.array([[e.angles for e in e] for e in elfs_all]))\n",
    "elfs_all = np.concatenate(np.array([[e.value for e in e] for e in elfs_all]))"
   ]
  },
  {
   "cell_type": "code",
   "execution_count": 34,
   "metadata": {},
   "outputs": [],
   "source": [
    "coords = np.genfromtxt('./outputs/monomers_rotated_origin.csv', delimiter = ',').reshape(-1,3,3)"
   ]
  },
  {
   "cell_type": "code",
   "execution_count": 35,
   "metadata": {},
   "outputs": [
    {
     "name": "stdout",
     "output_type": "stream",
     "text": [
      "[[ 0.      0.      0.    ]\n",
      " [ 0.9625  0.      0.    ]\n",
      " [-0.2328  0.9339  0.    ]]\n",
      "[[ 0.      0.      0.    ]\n",
      " [-0.2328  0.9339 -0.    ]\n",
      " [ 0.9625  0.      0.    ]]\n",
      "[[ 0.      0.      0.    ]\n",
      " [ 0.9625 -0.      0.    ]\n",
      " [-0.2328  0.9339 -0.    ]]\n",
      "[[ 0.      0.      0.    ]\n",
      " [ 0.9625  0.      0.    ]\n",
      " [-0.2328  0.9339  0.    ]]\n",
      "[[ 0.      0.      0.    ]\n",
      " [-0.2328  0.9339  0.    ]\n",
      " [ 0.9625 -0.      0.    ]]\n",
      "[[ 0.      0.      0.    ]\n",
      " [ 0.9625 -0.     -0.    ]\n",
      " [-0.2328  0.9339 -0.    ]]\n",
      "[[ 0.      0.      0.    ]\n",
      " [-0.2328  0.9339 -0.    ]\n",
      " [ 0.9625 -0.     -0.    ]]\n",
      "[[ 0.      0.      0.    ]\n",
      " [ 0.9625  0.     -0.    ]\n",
      " [-0.2328  0.9339 -0.    ]]\n",
      "[[ 0.      0.      0.    ]\n",
      " [-0.2328  0.9339 -0.    ]\n",
      " [ 0.9625  0.      0.    ]]\n",
      "[[ 0.      0.      0.    ]\n",
      " [ 0.9625  0.     -0.    ]\n",
      " [-0.2328  0.9339 -0.    ]]\n"
     ]
    }
   ],
   "source": [
    "for c,a in zip(coords,angles):\n",
    "    print(elf.geom.rotate_vector(c,a, True).round(4))"
   ]
  },
  {
   "cell_type": "code",
   "execution_count": 36,
   "metadata": {},
   "outputs": [
    {
     "data": {
      "text/plain": [
       "[<matplotlib.lines.Line2D at 0x7f9e45493160>,\n",
       " <matplotlib.lines.Line2D at 0x7f9e454932b0>,\n",
       " <matplotlib.lines.Line2D at 0x7f9e45493400>,\n",
       " <matplotlib.lines.Line2D at 0x7f9e45493550>,\n",
       " <matplotlib.lines.Line2D at 0x7f9e454936a0>,\n",
       " <matplotlib.lines.Line2D at 0x7f9e454937f0>,\n",
       " <matplotlib.lines.Line2D at 0x7f9e45493940>,\n",
       " <matplotlib.lines.Line2D at 0x7f9e45493a90>,\n",
       " <matplotlib.lines.Line2D at 0x7f9e45493be0>,\n",
       " <matplotlib.lines.Line2D at 0x7f9e45493d30>]"
      ]
     },
     "execution_count": 36,
     "metadata": {},
     "output_type": "execute_result"
    },
    {
     "data": {
      "image/png": "[encoded data removed]",
      "text/plain": [
       "<Figure size 432x288 with 1 Axes>"
      ]
     },
     "metadata": {},
     "output_type": "display_data"
    }
   ],
   "source": [
    "plot(elfs_all.T)"
   ]
  },
  {
   "cell_type": "code",
   "execution_count": null,
   "metadata": {},
   "outputs": [],
   "source": []
  },
  {
   "cell_type": "code",
   "execution_count": null,
   "metadata": {},
   "outputs": [],
   "source": []
  }
 ],
 "metadata": {
  "kernelspec": {
   "display_name": "Python 3",
   "language": "python",
   "name": "python3"
  },
  "language_info": {
   "codemirror_mode": {
    "name": "ipython",
    "version": 3
   },
   "file_extension": ".py",
   "mimetype": "text/x-python",
   "name": "python",
   "nbconvert_exporter": "python",
   "pygments_lexer": "ipython3",
   "version": "3.6.5"
  }
 },
 "nbformat": 4,
 "nbformat_minor": 2
}
